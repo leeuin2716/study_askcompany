{
 "cells": [
  {
   "cell_type": "code",
   "execution_count": 1,
   "id": "3a18236c",
   "metadata": {},
   "outputs": [],
   "source": [
    "import os\n",
    "os.environ['DJANGO_SETTINGS_MODULE'] = 'askcompany.settings'\n",
    "os.environ[\"DJANGO_ALLOW_ASYNC_UNSAFE\"] = 'true'\n",
    "import django\n",
    "from django.db.models import Q\n",
    "django.setup()"
   ]
  },
  {
   "cell_type": "code",
   "execution_count": null,
   "id": "a9c9da0d",
   "metadata": {},
   "outputs": [],
   "source": []
  },
  {
   "cell_type": "code",
   "execution_count": 2,
   "id": "b08e3877",
   "metadata": {},
   "outputs": [],
   "source": [
    "from accounts.models import Profile"
   ]
  },
  {
   "cell_type": "code",
   "execution_count": 5,
   "id": "4518e5c0",
   "metadata": {},
   "outputs": [
    {
     "data": {
      "text/plain": [
       "<User: uin>"
      ]
     },
     "execution_count": 5,
     "metadata": {},
     "output_type": "execute_result"
    }
   ],
   "source": [
    "profile = Profile.objects.first()\n",
    "profile.user"
   ]
  },
  {
   "cell_type": "code",
   "execution_count": 8,
   "id": "8448c142",
   "metadata": {},
   "outputs": [
    {
     "data": {
      "text/plain": [
       "<Profile: Profile object (1)>"
      ]
     },
     "execution_count": 8,
     "metadata": {},
     "output_type": "execute_result"
    }
   ],
   "source": [
    "# 현재 활성화된 유저모델을 얻을수 있는 funtion\n",
    "from django.contrib.auth import get_user_model\n",
    "\n",
    "User = get_user_model()\n",
    "#User.objects.all()\n",
    "user = User.objects.first()\n",
    "user.profile"
   ]
  },
  {
   "cell_type": "code",
   "execution_count": null,
   "id": "bcff9d69",
   "metadata": {},
   "outputs": [],
   "source": []
  }
 ],
 "metadata": {
  "kernelspec": {
   "display_name": "Python 3 (ipykernel)",
   "language": "python",
   "name": "python3"
  },
  "language_info": {
   "codemirror_mode": {
    "name": "ipython",
    "version": 3
   },
   "file_extension": ".py",
   "mimetype": "text/x-python",
   "name": "python",
   "nbconvert_exporter": "python",
   "pygments_lexer": "ipython3",
   "version": "3.8.10"
  }
 },
 "nbformat": 4,
 "nbformat_minor": 5
}
